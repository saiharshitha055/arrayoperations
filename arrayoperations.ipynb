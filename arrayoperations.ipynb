{
 "cells": [
  {
   "cell_type": "code",
   "execution_count": 1,
   "id": "e4d4dad9",
   "metadata": {},
   "outputs": [
    {
     "name": "stdout",
     "output_type": "stream",
     "text": [
      "[10, 20, 25, 30, 40, 50]\n",
      "[10, 20, 25, 40]\n",
      "10 20 25 40 \n",
      " 25 in array? True\n"
     ]
    }
   ],
   "source": [
    "#ARRAY OPERATIONS\n",
    "'''Program to consider a list arr=[10,20,30,40] and perform insert operations with 50 and 25 at position 2\n",
    " respectively and traverse the array  to fetch a number 25 is present or not'''\n",
    "arr=[10,20,30,40]\n",
    "#insert\n",
    "arr.append(50)\n",
    "arr.insert(2,25)\n",
    "print(arr)\n",
    "#deletion\n",
    "arr.remove(30)\n",
    "arr.pop()\n",
    "print(arr)\n",
    "#traversal\n",
    "for i in arr:\n",
    "    print(i,end=' ')\n",
    "#searching\n",
    "print(\"\\n 25 in array?\",25 in arr)\n",
    "    "
   ]
  },
  {
   "cell_type": "code",
   "execution_count": 4,
   "id": "de87f11b",
   "metadata": {},
   "outputs": [
    {
     "name": "stdout",
     "output_type": "stream",
     "text": [
      "palindrome\n",
      "{'m': 2, 'a': 4, 'l': 2, 'y': 1}\n"
     ]
    }
   ],
   "source": [
    "'''program to check whether the given string is palindrome or not  and count palindromic characters which are \n",
    "repeated count\n",
    "str=madam\n",
    "output:{'m':2,'a':2,'d':1}\n",
    "str=malayalam'''\n",
    "text=input(\"enter a name:\")\n",
    "if text==text[::-1]:\n",
    "    print(\"palindrome\")\n",
    "else:\n",
    "    print(\"not palindrome\")    \n",
    "freq={}\n",
    "for ch in text:\n",
    "    freq[ch]=freq.get(ch,0)+1\n",
    "print(freq)        "
   ]
  },
  {
   "cell_type": "code",
   "execution_count": null,
   "id": "6f63dc26",
   "metadata": {},
   "outputs": [],
   "source": []
  }
 ],
 "metadata": {
  "kernelspec": {
   "display_name": "Python 3",
   "language": "python",
   "name": "python3"
  },
  "language_info": {
   "codemirror_mode": {
    "name": "ipython",
    "version": 3
   },
   "file_extension": ".py",
   "mimetype": "text/x-python",
   "name": "python",
   "nbconvert_exporter": "python",
   "pygments_lexer": "ipython3",
   "version": "3.8.4"
  }
 },
 "nbformat": 4,
 "nbformat_minor": 5
}
